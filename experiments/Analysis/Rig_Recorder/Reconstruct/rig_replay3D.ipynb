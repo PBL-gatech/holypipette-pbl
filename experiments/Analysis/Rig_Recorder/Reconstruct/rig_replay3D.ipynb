{
 "cells": [
  {
   "cell_type": "markdown",
   "metadata": {},
   "source": [
    "# IntegratedTimeline Application Instructional Guide\n",
    "\n",
    "Welcome to the **IntegratedTimeline** application instructional guide. This notebook will help you set up, run, and navigate through the IntegratedTimeline application, which integrates both 2D graphs and 3D visualizations of movement data using PyQt."
  },
  {
   "cell_type": "markdown",
   "metadata": {},
   "source": [
    "## Table of Contents\n",
    "\n",
    "1. [Introduction](#Introduction)\n",
    "2. [Setting Up the Conda Environment](#Conda-Environment)\n",
    "3. [Installation of Required Packages](#Installation)\n",
    "4. [Running the Application](#Running)\n",
    "5. [Loading Data](#Loading)\n",
    "6. [Navigating the UI](#Navigating)\n",
    "   - [Using the Timeline Slider](#Timeline-Slider)\n",
    "   - [Playback Controls](#Playback-Controls)\n",
    "   - [Switching Views](#Switching-Views)\n",
    "7. [Troubleshooting](#Troubleshooting)\n",
    "8. [Conclusion](#Conclusion)"
  },
  {
   "cell_type": "markdown",
   "metadata": {},
   "source": [
    "## Introduction <a id='Introduction'></a>\n",
    "\n",
    "The **IntegratedTimeline** application is designed to help users visualize and analyze data by combining image frames with corresponding movement and graph data. The application features:\n",
    "\n",
    "- **Image Display**: Shows image frames from a specified directory.\n",
    "- **2D Graphs**: Displays Voltage, Current, Pressure, and Resistance data.\n",
    "- **3D Visualization**: Provides a 3D view of the stage, microscope, and pipette movements.\n",
    "- **Timeline Slider**: Allows navigation through different timepoints.\n",
    "- **Playback Controls**: Enables automated playback of timepoints.\n",
    "\n",
    "This guide will walk you through setting up the environment, running the application, loading your data, and effectively navigating the UI."
  },
  {
   "cell_type": "markdown",
   "metadata": {},
   "source": [
    "## Setting Up the Conda Environment <a id='Conda-Environment'></a>\n",
    "\n",
    "To ensure compatibility and easy package management, it is recommended to use a Conda environment. Follow these steps to create and activate a new Conda environment with Python 3.11:\n",
    "\n",
    "1. **Create a Conda Environment**:\n",
    "   ```bash\n",
    "   conda create -n integrated_timeline_env python=3.11\n",
    "   ```\n",
    "\n",
    "2. **Activate the Environment**:\n",
    "   ```bash\n",
    "   conda activate integrated_timeline_env\n",
    "   ```\n",
    "\n",
    "After activating the environment, you can proceed to install the required packages."
  },
  {
   "cell_type": "markdown",
   "metadata": {},
   "source": [
    "## Installation of Required Packages <a id='Installation'></a>\n",
    "\n",
    "After setting up your Conda environment, install the necessary packages for the **IntegratedTimeline** application. The packages include `PyQt5`, `pyqtgraph`, `numpy`, and `PyOpenGL`.\n",
    "\n",
    "### Installation Commands\n",
    "Run the following command to install all required packages:\n",
    "\n",
    "```bash\n",
    "pip install PyQt5 pyqtgraph numpy PyOpenGL\n",
    "```\n",
    "\n",
    "### Package Descriptions:\n",
    "\n",
    "- **PyQt5**: A set of Python bindings for the Qt application framework, used for creating the GUI.\n",
    "- **pyqtgraph**: A graphics and GUI library for fast plotting and data visualization.\n",
    "- **numpy**: A fundamental package for scientific computing with Python.\n",
    "- **PyOpenGL**: Python bindings for OpenGL, needed for rendering 3D objects in the application."
  },
  {
   "cell_type": "markdown",
   "metadata": {},
   "source": [
    "## Running the Application <a id='Running'></a>\n",
    "\n",
    "Once the required packages are installed, you can run the **IntegratedTimeline** application using the following steps:"
  },
  {
   "cell_type": "code",
   "execution_count": null,
   "metadata": {},
   "outputs": [],
   "source": [
    "# Save your IntegratedTimeline script to a file, for example, integrated_timeline.py\n",
    "# Then run the script using Python:\n",
    "!python integrated_timeline.py"
  },
  {
   "cell_type": "markdown",
   "metadata": {},
   "source": [
    "Ensure that the script `integrated_timeline.py` contains the provided PyQt application code. Running this script will launch the application's GUI."
  },
  {
   "cell_type": "markdown",
   "metadata": {},
   "source": [
    "## Loading Data <a id='Loading'></a>\n",
    "\n",
    "To visualize your data, you need to load a directory containing the necessary files. Follow these steps to load your data into the application:"
  },
  {
   "cell_type": "markdown",
   "metadata": {},
   "source": [
    "### Required Data Structure:\n",
    "\n",
    "Your data directory should have the following structure:\n",
    "\n",
    "```\n",
    "your_data_directory/\n",
    "│\n",
    "├── camera_frames/\n",
    "│   ├── 0_1627846261.123.webp\n",
    "│   ├── 1_1627846262.456.webp\n",
    "│   └── ...\n",
    "├── movement_recording.csv\n",
    "└── graph_recording.csv\n",
    "```"
  },
  {
   "cell_type": "markdown",
   "metadata": {},
   "source": [
    "### Steps to Load Data:\n",
    "\n",
    "1. **Prepare Your Data Directory**:\n",
    "   - Ensure that your data directory contains a `camera_frames` folder with image files in `.webp` format.\n",
    "   - Include `movement_recording.csv` for movement data.\n",
    "   - Include `graph_recording.csv` for graph data.\n",
    "\n",
    "2. **Launch the Application**:\n",
    "   - Run the `integrated_timeline.py` script to open the application.\n",
    "\n",
    "3. **Select Data Directory**:\n",
    "   - In the application's control panel at the bottom, click the `Select Data Directory` button.\n",
    "   - Navigate to and select your prepared data directory.\n",
    "   - The application will load the data and display the first image frame along with corresponding graphs."
  },
  {
   "cell_type": "markdown",
   "metadata": {},
   "source": [
    "## Navigating the UI <a id='Navigating'></a>\n",
    "\n",
    "Once your data is loaded, you can navigate through the UI to explore the visualizations."
  },
  {
   "cell_type": "markdown",
   "metadata": {},
   "source": [
    "### Using the Timeline Slider <a id='Timeline-Slider'></a>\n",
    "\n",
    "The timeline slider allows you to move through different timepoints in your data.\n",
    "\n",
    "1. **Adjusting the Slider**:\n",
    "   - Click and drag the slider at the bottom of the UI to move to a specific timepoint.\n",
    "   - The image display and graphs will update to reflect the selected timepoint.\n",
    "\n",
    "2. **Keyboard Shortcuts**:\n",
    "   - Press the **Left Arrow** key to move to the previous timepoint.\n",
    "   - Press the **Right Arrow** key to move to the next timepoint."
  },
  {
   "cell_type": "markdown",
   "metadata": {},
   "source": [
    "### Playback Controls <a id='Playback-Controls'></a>\n",
    "\n",
    "The playback controls allow for automated navigation through the timepoints.\n",
    "\n",
    "1. **Play/Pause Button**:\n",
    "   - Click the `Play` button to start automatic playback at approximately 30 frames per second.\n",
    "   - The button toggles to `Pause` when playback is active. Click `Pause` to stop playback.\n",
    "\n",
    "2. **Previous/Next Timepoint Buttons**:\n",
    "   - Click `Previous Timepoint` to manually step backward through the timepoints.\n",
    "   - Click `Next Timepoint` to manually step forward through the timepoints."
  },
  {
   "cell_type": "markdown",
   "metadata": {},
   "source": [
    "### Switching Views <a id='Switching-Views'></a>\n",
    "\n",
    "The application provides two types of visualizations: **2D Graphs** and **3D Visualization**.\n",
    "\n",
    "1. **2D Graphs**:\n",
    "   - Displays four graphs: Voltage, Current, Pressure, and Resistance over time.\n",
    "   - These graphs update in real-time as you navigate through the timepoints.\n",
    "\n",
    "2. **3D Visualization**:\n",
    "   - Shows a 3D view of the stage, microscope, and pipette movements.\n",
    "   - To switch to the 3D view, click the `Switch to 3D View` button.\n",
    "   - To return to the 2D graphs, click the same button, which will now display `Switch to 2D Graphs`.\n",
    "\n",
    "### Summary of Controls:\n",
    "\n",
    "- **Select Data Directory**: Load your dataset.\n",
    "- **Previous Timepoint / Next Timepoint**: Navigate through individual timepoints.\n",
    "- **Play/Pause**: Start or stop automatic playback.\n",
    "- **Switch to 3D View / Switch to 2D Graphs**: Toggle between visualization modes.\n",
    "- **Timeline Slider**: Drag to jump to a specific timepoint.\n",
    "- **Keyboard Shortcuts**: Use left/right arrow keys for navigation.\n"
  },
  {
   "cell_type": "markdown",
   "metadata": {},
   "source": [
    "## Troubleshooting <a id='Troubleshooting'></a>\n",
    "\n",
    "If you encounter issues while using the IntegratedTimeline application, consider the following troubleshooting steps:\n",
    "\n",
    "1. **Missing Packages**:\n",
    "   - Ensure all required packages (`PyQt5`, `pyqtgraph`, `numpy`, `PyOpenGL`) are installed.\n",
    "   - Re-run the installation commands if necessary.\n",
    "\n",
    "2. **Data Loading Errors**:\n",
    "   - Verify that your data directory has the correct structure.\n",
    "   - Ensure that `movement_recording.csv` and `graph_recording.csv` are present and properly formatted.\n",
    "   - Check that image files are in the `.webp` format and located within the `camera_frames` folder.\n",
    "\n",
    "3. **Application Not Launching**:\n",
    "   - Check for any error messages in the terminal where you ran the script.\n",
    "   - Ensure that you are using Python 3.11 as specified in the Conda environment.\n",
    "   - Verify that your environment has access to a display if running on a headless server.\n",
    "\n",
    "4. **Performance Issues**:\n",
    "   - Ensure your system meets the necessary hardware requirements for running PyQt applications.\n",
    "   - Close other intensive applications to free up system resources.\n",
    "\n",
    "5. **Further Assistance**:\n",
    "   - Consult the application's documentation or source code for additional insights.\n",
    "   - Reach out to the developer community for support."
  },
  {
   "cell_type": "markdown",
   "metadata": {},
   "source": [
    "## Conclusion <a id='Conclusion'></a>\n",
    "\n",
    "The **IntegratedTimeline** application offers a powerful way to visualize and analyze time-based data through synchronized image frames, 2D graphs, and 3D visualizations. By following this guide, you should be able to set up the application, load your data, and navigate through the visualizations effectively.\n",
    "\n",
    "Feel free to customize and extend the application further to suit your specific data analysis needs. Happy visualizing!"
  }
 ],
 "metadata": {
  "kernelspec": {
   "display_name": "Python 3",
   "language": "python",
   "name": "python3"
  },
  "language_info": {
   "codemirror_mode": {
    "name": "ipython",
    "version": 3
   },
   "file_extension": ".py",
   "mimetype": "text/x-python",
   "name": "python",
   "nbconvert_exporter": "python",
   "pygments_lexer": "ipython3",
   "version": "3.8.10"
  }
 },
 "nbformat": 4,
 "nbformat_minor": 5
}
