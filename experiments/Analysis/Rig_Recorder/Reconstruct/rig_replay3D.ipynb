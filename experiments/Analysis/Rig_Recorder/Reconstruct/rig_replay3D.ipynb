{
 "cells": [
  {
   "cell_type": "markdown",
   "id": "823d0e59",
   "metadata": {},
   "source": [
    "# RigReplay Application Overview\n",
    "\n",
    "This application allows users to load data from a directory containing images and movement/graph data. The UI is built with PyQt and integrates both 2D graphs and 3D visualizations of movement data. Users can navigate through timepoints using a slider, view image frames alongside the graphs, and switch between 2D and 3D views."
   ]
  },
  {
   "cell_type": "markdown",
   "id": "853b4e95",
   "metadata": {},
   "source": [
    "# Table of Contents\n",
    "\n",
    "1. [Loading Data into the Application](#Loading-Data-into-the-Application)\n",
    "2. [Navigating Through Timepoints](#Navigating-Through-Timepoints)\n",
    "3. [Understanding 2D Graphs](#Understanding-2D-Graphs)\n",
    "4. [Switching Between 2D and 3D Views](#Switching-Between-2D-and-3D-Views)\n",
    "5. [Using Playback Controls](#Using-Playback-Controls)\n",
    "6. [Displaying Images in the UI](#Displaying-Images-in-the-UI)\n",
    "7. [Required Packages and Environment Setup](#Required-Packages-and-Environment-Setup)\n"
   ]
  },
  {
   "cell_type": "markdown",
   "id": "c7b53fb9",
   "metadata": {},
   "source": [
    "## 1. Loading Data into the Application\n",
    "\n",
    "To load a dataset, follow these steps:\n",
    "1. Open the application.\n",
    "2. Click the `Select Data Directory` button located in the control panel at the bottom of the UI.\n",
    "3. Choose a directory that contains the following files:\n",
    "   - `camera_frames` folder with images (in `.webp` format).\n",
    "   - `movement_recording.csv` file for movement data.\n",
    "   - `graph_recording.csv` file for graph data.\n",
    "\n",
    "Once the directory is selected, the application will automatically load the data, initialize the timeline, and display the first image frame."
   ]
  },
  {
   "cell_type": "markdown",
   "id": "29378413",
   "metadata": {},
   "source": [
    "## 2. Navigating Through Timepoints\n",
    "\n",
    "The timeline slider at the bottom of the UI allows you to move through different timepoints:\n",
    "1. Move the slider left or right to adjust the current timepoint.\n",
    "2. Use the `Previous Timepoint` and `Next Timepoint` buttons to step backward or forward through the data.\n",
    "3. Press the `Play` button to automatically advance through timepoints at a 30fps playback rate.\n",
    "\n",
    "The information panel updates with the current stage and pipette positions, as well as the current image frame."
   ]
  },
  {
   "cell_type": "markdown",
   "id": "49bd3258",
   "metadata": {},
   "source": [
    "## 3. Understanding 2D Graphs\n",
    "\n",
    "The application displays 2D graphs representing data such as Voltage, Current, Pressure, and Resistance:\n",
    "- **Voltage Plot**: Shows voltage data over time (in volts).\n",
    "- **Current Plot**: Displays current data (in amperes).\n",
    "- **Pressure Plot**: Graphs the pressure (in mBAR).\n",
    "- **Resistance Plot**: Plots resistance (in Ohms).\n",
    "\n",
    "The graphs automatically update as you move through timepoints with the slider or play/pause functionality."
   ]
  },
  {
   "cell_type": "markdown",
   "id": "403c89ac",
   "metadata": {},
   "source": [
    "## 4. Switching Between 2D and 3D Views\n",
    "\n",
    "The application includes a 3D visualization of the stage, microscope, and pipette movements. To switch between 2D and 3D views:\n",
    "1. Click the `Switch to 3D View` button to toggle between the graphs and the 3D visualization.\n",
    "2. In the 3D view, the stage, microscope, and pipette movements are displayed based on the loaded movement data.\n",
    "\n",
    "You can switch back to the 2D graphs by clicking the same button."
   ]
  },
  {
   "cell_type": "markdown",
   "id": "df1b8a5f",
   "metadata": {},
   "source": [
    "## 5. Using Playback Controls\n",
    "\n",
    "The playback controls allow for automated timepoint navigation:\n",
    "1. **Play/Pause**: Toggles between playing through timepoints and pausing. While playing, the slider moves automatically.\n",
    "2. **Previous/Next Timepoint**: Manually step backward or forward through the timeline.\n",
    "\n",
    "These controls help visualize the data frame by frame or in real-time."
   ]
  },
  {
   "cell_type": "markdown",
   "id": "7ba2a65d",
   "metadata": {},
   "source": [
    "## 6. Displaying Images in the UI\n",
    "\n",
    "Once the data is loaded, the images are displayed in the left pane of the UI. The images are from the `camera_frames` folder and are updated as the slider or timepoint changes."
   ]
  },
  {
   "cell_type": "markdown",
   "id": "621cfe74",
   "metadata": {},
   "source": [
    "## 7. Required Packages and Environment Setup\n",
    "\n",
    "To run the `IntegratedTimeline` application, you need to ensure that the required packages are installed. Below is a guide for setting up a `conda` environment with Python 3.11.\n",
    "\n",
    "### Step 1: Conda Environment Setup\n",
    "\n",
    "1. **Install Anaconda or Miniconda** (if not already installed).\n",
    "   - You can download Anaconda from [here](https://www.anaconda.com/products/distribution).\n",
    "   - Alternatively, Miniconda is a lightweight version that you can download [here](https://docs.conda.io/en/latest/miniconda.html).\n",
    "\n",
    "2. **Create a Conda Environment**:\n",
    "   Open a terminal or command prompt and create a new environment using the following command:\n",
    "   ```bash\n",
    "   conda create -n IntegratedTimeline python=3.11\n",
    "   ```\n",
    "\n",
    "3. **Activate the Environment**:\n",
    "   After the environment is created, activate it:\n",
    "   ```bash\n",
    "   conda activate IntegratedTimeline\n",
    "   ```\n",
    "\n",
    "### Step 2: Installing Required Packages\n",
    "\n",
    "Once the environment is activated, you need to install the required Python packages. Here’s the list of required packages for this project:\n",
    "\n",
    "- `pyqtgraph`\n",
    "- `PyQt5`\n",
    "- `PyOpenGL`\n",
    "- `numpy`\n",
    "\n",
    "To install these, use the following commands:\n",
    "\n",
    "```bash\n",
    "# Install PyQt5 and pyqtgraph for the UI and plotting\n",
    "conda install pyqt=5 pyqtgraph\n",
    "\n",
    "# Install PyOpenGL for 3D visualization\n",
    "pip install PyOpenGL PyOpenGL_accelerate\n",
    "\n",
    "# Install NumPy for array manipulation\n",
    "conda install numpy\n",
    "```\n",
    "\n",
    "### Step 3: Install Any Additional Dependencies\n",
    "\n",
    "If you encounter any issues, ensure that the following packages are installed as well:\n",
    "\n",
    "```bash\n",
    "conda install pillow  # For handling image files\n",
    "conda install matplotlib  # For additional plotting options\n",
    "```\n",
    "\n",
    "### Step 4: YAML File for Reproducibility\n",
    "\n",
    "For ease of setup, you can also create the environment from a `YAML` file. Here’s an example `environment.yaml`:\n",
    "\n",
    "```yaml\n",
    "name: IntegratedTimeline\n",
    "channels:\n",
    "  - defaults\n",
    "dependencies:\n",
    "  - python=3.11\n",
    "  - pyqt=5\n",
    "  - pyqtgraph\n",
    "  - numpy\n",
    "  - pip\n",
    "  - pip:\n",
    "    - PyOpenGL\n",
    "    - PyOpenGL_accelerate\n",
    "```\n",
    "\n",
    "To create an environment from this file, save it as `environment.yaml` and run:\n",
    "```bash\n",
    "conda env create -f environment.yaml\n",
    "```\n",
    "\n",
    "### Step 5: Running the Application\n",
    "\n",
    "Once the environment is set up and the required packages are installed, you can run the application by executing the Python script:\n",
    "```bash\n",
    "python rig_replay3D.py\n",
    "```"
   ]
  }
 ],
 "metadata": {
  "kernelspec": {
   "display_name": "Python 3",
   "language": "python",
   "name": "python3"
  },
  "language_info": {
   "name": "python",
   "version": "3.11"
  }
 },
 "nbformat": 4,
 "nbformat_minor": 5
}
